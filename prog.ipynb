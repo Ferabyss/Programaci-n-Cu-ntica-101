{
  "cells": [
    {
      "cell_type": "markdown",
      "metadata": {
        "id": "SKW3GpQpOy1u"
      },
      "source": [
        "# Taller de Computación Cuántica\n",
        "\n",
        "## Tema 1:\n"
      ]
    },
    {
      "cell_type": "code",
      "execution_count": null,
      "metadata": {
        "id": "unCbzCRxOkCe"
      },
      "outputs": [],
      "source": [
        "!pip install qiskit\n",
        "!pip install qiskit_aer\n",
        "!pip install qiskit_ibm_provider\n"
      ]
    },
    {
      "cell_type": "code",
      "execution_count": null,
      "metadata": {
        "id": "ffa7b609-3cb3-414a-a9e6-f2ce7450a9b1"
      },
      "outputs": [],
      "source": [
        "from qiskit import QuantumCircuit\n",
        "from math import sqrt, pi\n",
        "import numpy as np\n",
        "from qiskit import transpile\n",
        "from qiskit.visualization import *"
      ]
    },
    {
      "cell_type": "markdown",
      "metadata": {
        "id": "bf99a4d1-1a1b-4e79-a558-6fadff876bf0"
      },
      "source": [
        "## MI PRIMER CIRCUITO ##\n",
        "Para crear un circuito en qiskit usamos *QuantumCircuit(#qubits)* como una lista de operaciones cuánticas aplicadas a cierto qubit.\n",
        "\n"
      ]
    },
    {
      "cell_type": "code",
      "execution_count": null,
      "metadata": {
        "colab": {
          "base_uri": "https://localhost:8080/",
          "height": 156
        },
        "id": "5f282351-469e-40ef-bbe4-615512db6495",
        "outputId": "34977a17-29b4-4c1c-ba57-ab41c904a0e5"
      },
      "outputs": [
        {
          "data": {
            "text/html": [
              "<pre style=\"word-wrap: normal;white-space: pre;background: #fff0;line-height: 1.1;font-family: &quot;Courier New&quot;,Courier,monospace\">     ┌───┐\n",
              "q_0: ┤ H ├\n",
              "     ├───┤\n",
              "q_1: ┤ H ├\n",
              "     ├───┤\n",
              "q_2: ┤ H ├\n",
              "     ├───┤\n",
              "q_3: ┤ H ├\n",
              "     └───┘</pre>"
            ],
            "text/plain": [
              "     ┌───┐\n",
              "q_0: ┤ H ├\n",
              "     ├───┤\n",
              "q_1: ┤ H ├\n",
              "     ├───┤\n",
              "q_2: ┤ H ├\n",
              "     ├───┤\n",
              "q_3: ┤ H ├\n",
              "     └───┘"
            ]
          },
          "execution_count": 14,
          "metadata": {},
          "output_type": "execute_result"
        }
      ],
      "source": [
        "qc=QuantumCircuit(4) #Creamos un circuito cuántico de un qubit\n",
        "\n",
        "for i in range(4):\n",
        "    qc.h(i)\n",
        "\n",
        " #Compuerta X aplicada al qubit 0\n",
        "qc.draw()"
      ]
    },
    {
      "cell_type": "markdown",
      "metadata": {
        "id": "abaaaf28-3f09-4e4e-b452-80e3f2e51100"
      },
      "source": [
        "Para agregar más operadores, simplemente los agregamos en el orden que queramos."
      ]
    },
    {
      "cell_type": "code",
      "execution_count": null,
      "metadata": {
        "colab": {
          "base_uri": "https://localhost:8080/",
          "height": 63
        },
        "id": "e3edb586-8475-42ef-a01d-7725de6cc518",
        "outputId": "ba04c77e-2295-444c-f665-3286880af4f7"
      },
      "outputs": [
        {
          "data": {
            "text/html": [
              "<pre style=\"word-wrap: normal;white-space: pre;background: #fff0;line-height: 1.1;font-family: &quot;Courier New&quot;,Courier,monospace\">   ┌───┐\n",
              "q: ┤ Y ├\n",
              "   └───┘</pre>"
            ],
            "text/plain": [
              "   ┌───┐\n",
              "q: ┤ Y ├\n",
              "   └───┘"
            ]
          },
          "execution_count": 15,
          "metadata": {},
          "output_type": "execute_result"
        }
      ],
      "source": [
        "qc=QuantumCircuit(1) #Creamos un circuito cuántico de un qubit\n",
        " #Compuerta X aplicada al qubit 0\n",
        "qc.y(0)\n",
        "qc.draw()"
      ]
    },
    {
      "cell_type": "code",
      "execution_count": null,
      "metadata": {
        "id": "p8Eb7qF5jrDu"
      },
      "outputs": [],
      "source": [
        "from qiskit_aer import Aer"
      ]
    },
    {
      "cell_type": "code",
      "execution_count": null,
      "metadata": {
        "colab": {
          "base_uri": "https://localhost:8080/",
          "height": 452
        },
        "id": "cb2070c1-98dc-4e07-8fa0-a3714c26266d",
        "outputId": "b641ccde-b20e-4e63-ef9b-fdc2f8d030af"
      },
      "outputs": [
        {
          "data": {
            "image/png": "[encoded data removed]",
            "text/plain": [
              "<Figure size 640x480 with 1 Axes>"
            ]
          },
          "execution_count": 17,
          "metadata": {},
          "output_type": "execute_result"
        }
      ],
      "source": [
        "import qiskit\n",
        "from qiskit import transpile\n",
        "from qiskit.visualization import plot_histogram, plot_bloch_multivector\n",
        "\n",
        "#Medir el circuito\n",
        "qc.measure_all()\n",
        "\n",
        "# Transpilar el circuito\n",
        "simulator = Aer.get_backend('aer_simulator')\n",
        "qc = transpile(qc, simulator)\n",
        "\n",
        "# Correr el circuito\n",
        "resultados = simulator.run(qc).result()\n",
        "tiradas = resultados.get_counts(qc)\n",
        "plot_histogram(tiradas, title='Mi primera medición')"
      ]
    },
    {
      "cell_type": "code",
      "execution_count": null,
      "metadata": {
        "id": "Uow2y5IaRUt7"
      },
      "outputs": [],
      "source": [
        "import numpy as np\n",
        "from qiskit import *\n",
        "from qiskit import QuantumCircuit\n",
        "import qiskit_ibm_provider\n",
        "from qiskit.visualization import *\n",
        "from qiskit.visualization import plot_histogram\n"
      ]
    },
    {
      "cell_type": "code",
      "execution_count": null,
      "metadata": {
        "id": "TLZAQ9-8UIhw"
      },
      "outputs": [],
      "source": [
        "#provider = IBMQ.load_account()\n",
        "#IBMQ.save_account('APITOKEN', overwrite=True)"
      ]
    },
    {
      "cell_type": "code",
      "execution_count": null,
      "metadata": {
        "id": "kpEqY4lgUJCW"
      },
      "outputs": [],
      "source": []
    },
    {
      "cell_type": "markdown",
      "metadata": {
        "id": "ebf52b75-ceb1-45db-962c-430273d91b2e",
        "tags": []
      },
      "source": [
        "## Paso 1: Crear nuestro circuito"
      ]
    },
    {
      "cell_type": "code",
      "execution_count": null,
      "metadata": {
        "colab": {
          "base_uri": "https://localhost:8080/",
          "height": 125
        },
        "id": "Ax5Nmbf8TtcN",
        "outputId": "9b608b2c-1fc1-46ed-fe7d-56cb723838cd"
      },
      "outputs": [
        {
          "data": {
            "text/html": [
              "<pre style=\"word-wrap: normal;white-space: pre;background: #fff0;line-height: 1.1;font-family: &quot;Courier New&quot;,Courier,monospace\">     ┌───┐        \n",
              "q_0: ┤ H ├──■─────\n",
              "     └───┘┌─┴─┐┌─┐\n",
              "q_1: ─────┤ X ├┤M├\n",
              "          └───┘└╥┘\n",
              "c: 2/═══════════╩═\n",
              "                1 </pre>"
            ],
            "text/plain": [
              "     ┌───┐        \n",
              "q_0: ┤ H ├──■─────\n",
              "     └───┘┌─┴─┐┌─┐\n",
              "q_1: ─────┤ X ├┤M├\n",
              "          └───┘└╥┘\n",
              "c: 2/═══════════╩═\n",
              "                1 "
            ]
          },
          "execution_count": 43,
          "metadata": {},
          "output_type": "execute_result"
        }
      ],
      "source": [
        "circuito = QuantumCircuit(2,2) #(QUBITS,BITS)\n",
        "\n",
        "circuito.h(0)\n",
        "circuito.cx(0,1)\n",
        "\n",
        "\n",
        "circuito.measure(1,1) #(q,c) registra la medición del q1 en el registro clásico c1\n",
        "\n",
        "circuito.draw()"
      ]
    },
    {
      "cell_type": "markdown",
      "metadata": {
        "id": "18af887e-57bc-4121-858e-e33907865567"
      },
      "source": [
        "# Paso 2: Elegir una computadora cuántica para simularlo"
      ]
    },
    {
      "cell_type": "code",
      "execution_count": null,
      "metadata": {
        "id": "00f742de-1121-4279-8fc1-eff049576906"
      },
      "outputs": [],
      "source": [
        "computadora_cuantica = provider.get_backend(\"ibmq_kyiv\")"
      ]
    },
    {
      "cell_type": "markdown",
      "metadata": {
        "id": "c583b07c-f035-4e3d-af17-b4e55675ee78"
      },
      "source": [
        "#¿ibmq_bogota era una computadora cuántica disponible hace algunos meses, por qué nos da error?\n",
        "Es bastante común que IBM Quantum haga cambios: desactive algunas computadoras y agregue nuevas. Para saber a cuales computadoras tenemos acceso basta con ejecutar .backends () tal como se muestra a continuación."
      ]
    },
    {
      "cell_type": "code",
      "execution_count": null,
      "metadata": {
        "id": "de5652d4-81e8-4980-8d8d-a23bfcb71b7c"
      },
      "outputs": [],
      "source": [
        " provider.backends()"
      ]
    },
    {
      "cell_type": "markdown",
      "metadata": {
        "id": "f59f1741-5dd9-4493-9e91-539bf83dd352"
      },
      "source": [
        "Ahora podemos agregar una QC de la lista, considerando que las computadoras cuánticas son aquellas del tipo \"IBMQBackend\""
      ]
    },
    {
      "cell_type": "code",
      "execution_count": null,
      "metadata": {
        "id": "49661300-d29b-421c-ab8f-9746bca659ab"
      },
      "outputs": [],
      "source": [
        "computadora_cuantica = provider.get_backend(\"ibmq_manila\")"
      ]
    },
    {
      "cell_type": "markdown",
      "metadata": {
        "id": "8477afd1-3940-441f-a269-917e66e8b78b"
      },
      "source": [
        "# Paso 3: Ejecutar y graficar"
      ]
    },
    {
      "cell_type": "code",
      "execution_count": null,
      "metadata": {
        "id": "fd7a0262-bc20-46a0-8db8-d2a7dc53949b"
      },
      "outputs": [],
      "source": [
        "job = execute(circuito, computadora_cuantica, shots=1024) #ejecutamos el circuito\n",
        "\n",
        "counts = job.result().get_counts(circuito) #obtenemos las mediciones de la ejecución\n",
        "\n",
        "print(job.job_id()) #este id nos sirve para buscar nuestros resultados después, en caso de que los perdamos\n",
        "\n",
        "plot_histogram(counts)"
      ]
    },
    {
      "cell_type": "markdown",
      "metadata": {
        "id": "8aedea30-7522-4fcd-853f-205bd93ef603"
      },
      "source": [
        "# ¿Por qué no obtenemos 11?\n",
        "Porque aunque nuestro estado se determina en ambos, cuando estamos realizando una medicion real necesitamos registrar ambos en un bit clasico.\n",
        "\n",
        "Como solo registramos el resultado del q1 qiskit toma como default una medición 0, para resolverlo basta con registrar el resultado del q0."
      ]
    },
    {
      "cell_type": "code",
      "execution_count": null,
      "metadata": {
        "id": "e47a232c-11de-43ff-94f7-f270b083398d",
        "outputId": "83502450-5a4d-448d-fa08-6fccf43d5cd0"
      },
      "outputs": [
        {
          "data": {
            "image/png": "[encoded data removed]",
            "text/plain": [
              "<Figure size 327.252x204.68 with 1 Axes>"
            ]
          },
          "execution_count": 16,
          "metadata": {},
          "output_type": "execute_result"
        }
      ],
      "source": [
        "circuito = QuantumCircuit(2,2) #(QUBITS,BITS)\n",
        "\n",
        "circuito.h(0)\n",
        "circuito.cx(0,1)\n",
        "\n",
        "circuito.measure(0,0)\n",
        "circuito.measure(1,1)\n",
        "#También puedes usar .measure_all\n",
        "#.measure_all crea n registros clasicos\n",
        "# y guarda las mediciones de los n qubits\n",
        "\n",
        "circuito.draw()"
      ]
    },
    {
      "cell_type": "code",
      "execution_count": null,
      "metadata": {
        "id": "1ab4b5f4-e624-4b6c-adea-d16f53006ff6",
        "outputId": "7bb3803e-3f71-4407-883b-b51bbdc4f7bb"
      },
      "outputs": [
        {
          "name": "stdout",
          "output_type": "stream",
          "text": [
            "637137a9c18278818476de99\n"
          ]
        },
        {
          "data": {
            "image/png": "[encoded data removed]",
            "text/plain": [
              "<Figure size 504x360 with 1 Axes>"
            ]
          },
          "execution_count": 10,
          "metadata": {},
          "output_type": "execute_result"
        }
      ],
      "source": [
        "job = execute(circuito, computadora_cuantica, shots=1024)\n",
        "\n",
        "counts = job.result().get_counts(circuito)\n",
        "\n",
        "print(job.job_id())\n",
        "\n",
        "plot_histogram(counts)"
      ]
    },
    {
      "cell_type": "code",
      "execution_count": null,
      "metadata": {
        "id": "1652c9e5-cc8b-4ee6-8581-c6a1e1877d99"
      },
      "outputs": [],
      "source": []
    },
    {
      "cell_type": "markdown",
      "metadata": {
        "id": "74d922b5-9cc5-462c-8fb3-6016909f4921"
      },
      "source": [
        "# Deutsch-Jozsa"
      ]
    },
    {
      "cell_type": "code",
      "execution_count": null,
      "metadata": {
        "id": "675b9381-697e-41cb-ae50-4d6290467548"
      },
      "outputs": [],
      "source": [
        "from qiskit_textbook.problems import dj_problem_oracle"
      ]
    },
    {
      "cell_type": "code",
      "execution_count": null,
      "metadata": {
        "id": "e6bf57d9-4f02-4118-906e-1de3dc6f0fed"
      },
      "outputs": [],
      "source": [
        "oraclenr = 4 #oraculo puede variar de 1 a 5\n",
        "oracle = dj_problem_oracle(oraclenr) # da uno de los 5 oraculos\n",
        "oracle.name = \"DJ-Oracle\" #llama al oraulo en este caso el DJ (Deutsch Jozsa)"
      ]
    },
    {
      "cell_type": "code",
      "execution_count": null,
      "metadata": {
        "id": "f1c3e5c8-f635-42f0-8f6a-58d3457a5b55",
        "outputId": "6745e546-3f3d-4300-edd2-1b207712df60"
      },
      "outputs": [
        {
          "data": {
            "image/png": "[encoded data removed]",
            "text/plain": [
              "<Figure size 146.797x385.28 with 1 Axes>"
            ]
          },
          "execution_count": 4,
          "metadata": {},
          "output_type": "execute_result"
        }
      ],
      "source": [
        "n=4 #n+1 qubits en el circuito\n",
        "def psi_0(n):#funcion para colocar la compuerta X en el ultimo qubit\n",
        "    qc = QuantumCircuit(n+1,n)\n",
        "    qc.x(n)\n",
        "    return qc\n",
        "\n",
        "dj_circuit = psi_0(n) #llama la funcion psi_0 y lo guarda en el circuito\n",
        "dj_circuit.draw()"
      ]
    },
    {
      "cell_type": "code",
      "execution_count": null,
      "metadata": {
        "id": "1e53bdb0-37d7-47b9-8a4c-1ad8fd0733d4",
        "outputId": "b8ceb96d-1966-48fe-8155-647fb9c51610"
      },
      "outputs": [
        {
          "data": {
            "image/png": "[encoded data removed]",
            "text/plain": [
              "<Figure size 206.997x385.28 with 1 Axes>"
            ]
          },
          "execution_count": 5,
          "metadata": {},
          "output_type": "execute_result"
        }
      ],
      "source": [
        "def psi_1(n):\n",
        "    #  las n compuertas hadamard\n",
        "    qc = psi_0(n)# llamamos la funcion de la compuerta x\n",
        "    for i in range(n+1):\n",
        "        qc.h(i)\n",
        "    return qc\n",
        "\n",
        "dj_circuit = psi_1(n)\n",
        "dj_circuit.draw()"
      ]
    },
    {
      "cell_type": "code",
      "execution_count": null,
      "metadata": {
        "id": "3151b9dd-97df-4e2f-accc-0bcbcebb3a79",
        "outputId": "105b217b-f84a-4812-b5dd-f433e3bf7e45"
      },
      "outputs": [
        {
          "data": {
            "image/png": "[encoded data removed]",
            "text/plain": [
              "<Figure size 327.397x385.28 with 1 Axes>"
            ]
          },
          "execution_count": 6,
          "metadata": {},
          "output_type": "execute_result"
        }
      ],
      "source": [
        "def psi_2(oracle,n):\n",
        "\n",
        "    qc = psi_1(n)#llmamos psi_1 (compuertas X y Hadamards)\n",
        "\n",
        "    # Agregamos el oraculo con .append\n",
        "    qc.append(oracle, range(n+1))#Especificamos el oraculo y el rango de entradas\n",
        "\n",
        "    return qc\n",
        "\n",
        "dj_circuit = psi_2(oracle, n)\n",
        "dj_circuit.draw()"
      ]
    },
    {
      "cell_type": "code",
      "execution_count": null,
      "metadata": {
        "id": "1c363408-e3e1-48d2-89a1-0af4361605fc"
      },
      "outputs": [],
      "source": []
    },
    {
      "cell_type": "code",
      "execution_count": null,
      "metadata": {
        "id": "4f50d03b-0a43-461d-95bd-02e6aa59e37f"
      },
      "outputs": [],
      "source": [
        "import matplotlib.pyplot as plt\n",
        "%matplotlib inline\n",
        "import numpy as np\n",
        "\n",
        "from qiskit import *\n",
        "#from qiskit.providers.ibmq import least_busy\n",
        "import math\n",
        "\n",
        "\n",
        "provider = IBMQ.load_account()"
      ]
    },
    {
      "cell_type": "markdown",
      "metadata": {
        "id": "3bc5e873-341f-495a-89a1-e3be7b61aa2a"
      },
      "source": [
        "# ALGORITMO DE GROVER\n"
      ]
    },
    {
      "cell_type": "markdown",
      "metadata": {
        "id": "ef83c3e2-fc90-4a6d-9bcf-fef5aa088615"
      },
      "source": [
        "Se hace una superposición uniforme."
      ]
    },
    {
      "cell_type": "code",
      "execution_count": null,
      "metadata": {
        "id": "03e44490-56fe-46f9-bdc5-bda3fdba14ea",
        "outputId": "6aab5319-a797-4d7e-a346-e3384d64f67c"
      },
      "outputs": [
        {
          "data": {
            "image/png": "[encoded data removed]",
            "text/plain": [
              "<Figure size 206.852x204.68 with 1 Axes>"
            ]
          },
          "execution_count": 24,
          "metadata": {},
          "output_type": "execute_result"
        }
      ],
      "source": [
        "q = QuantumRegister(2, 'q') #Creamos nuestros registros clasicos y cuanticos\n",
        "c = ClassicalRegister(2, 'c')\n",
        "qc = QuantumCircuit(q,c) #creamos el circuito con los registros\n",
        "\n",
        "qc.h(q) #aplicamos hadamard a todos nuestros qubits\n",
        "qc.barrier(q)\n",
        "qc.draw()\n"
      ]
    },
    {
      "cell_type": "markdown",
      "metadata": {
        "id": "591d9e90-425b-4a5a-bede-efe3b37e4026"
      },
      "source": [
        "Añadimos el oráculo. En este caso es la compuerta *CZ*"
      ]
    },
    {
      "cell_type": "code",
      "execution_count": null,
      "metadata": {
        "id": "7b600143-c243-4f3d-9f47-cb39a73f98a5",
        "outputId": "3c4447c3-973f-42ab-e25b-937fcd419b0d"
      },
      "outputs": [
        {
          "data": {
            "image/png": "[encoded data removed]",
            "text/plain": [
              "<Figure size 327.252x204.68 with 1 Axes>"
            ]
          },
          "execution_count": 25,
          "metadata": {},
          "output_type": "execute_result"
        }
      ],
      "source": [
        "# Implementamos el oráculo para encontrar |11>\n",
        "qc.cz(q[1],q[0]) #qc.cz(c,t)\n",
        "qc.barrier(q)\n",
        "\n",
        "qc.draw()\n"
      ]
    },
    {
      "cell_type": "markdown",
      "metadata": {
        "id": "a0cfae1a-384f-4d73-b7a0-2c1530b7ed70"
      },
      "source": [
        "Se agrega una Difusión de Grover, también llamada amplificación."
      ]
    },
    {
      "cell_type": "code",
      "execution_count": null,
      "metadata": {
        "id": "16fcd3c1-6eb4-42a8-acec-4401370ef715",
        "outputId": "32154cb2-eff7-4e95-e195-b1e8422d400f"
      },
      "outputs": [
        {
          "data": {
            "image/png": "[encoded data removed]",
            "text/plain": [
              "<Figure size 688.452x204.68 with 1 Axes>"
            ]
          },
          "execution_count": 26,
          "metadata": {},
          "output_type": "execute_result"
        }
      ],
      "source": [
        "#Difusion de grover\n",
        "qc.h(q)\n",
        "qc.x(q)\n",
        "qc.cz(q[1],q[0])\n",
        "qc.x(q)\n",
        "qc.h(q)\n",
        "qc.barrier(q)\n",
        "qc.draw()"
      ]
    },
    {
      "cell_type": "code",
      "execution_count": null,
      "metadata": {
        "id": "a7295be9-0967-4f3f-a84b-e18f884d1afc",
        "outputId": "e11f5794-0363-4ecb-9099-944d979fb120"
      },
      "outputs": [
        {
          "data": {
            "image/png": "[encoded data removed]",
            "text/plain": [
              "<Figure size 808.852x204.68 with 1 Axes>"
            ]
          },
          "execution_count": 27,
          "metadata": {},
          "output_type": "execute_result"
        }
      ],
      "source": [
        "#Agregamos las mediciones\n",
        "qc.measure(q[0],c[0])\n",
        "qc.measure(q[1],c[1])\n",
        "\n",
        "qc.draw(output='mpl')"
      ]
    },
    {
      "cell_type": "code",
      "execution_count": null,
      "metadata": {
        "id": "12e77891-ce62-4c05-9a34-6b3bae34155e",
        "outputId": "faad5d4a-f5e4-4966-f0ec-6005bdbee9fd"
      },
      "outputs": [
        {
          "name": "stdout",
          "output_type": "stream",
          "text": [
            "RESULT:  {'11': 2048} \n",
            "\n"
          ]
        },
        {
          "data": {
            "image/png": "[encoded data removed]",
            "text/plain": [
              "<Figure size 504x360 with 1 Axes>"
            ]
          },
          "execution_count": 28,
          "metadata": {},
          "output_type": "execute_result"
        }
      ],
      "source": [
        "# Simulando el circuito\n",
        "\n",
        "simulator = Aer.get_backend('qasm_simulator')\n",
        "result = execute(qc, backend = simulator, shots = 2048).result()\n",
        "counts = result.get_counts()\n",
        "\n",
        "print('RESULT: ',counts,'\\n')\n",
        "\n",
        "from qiskit.tools.visualization import plot_histogram\n",
        "plot_histogram(counts)\n"
      ]
    },
    {
      "cell_type": "markdown",
      "metadata": {
        "id": "606dd227-95ac-41f4-a64f-fcd96535910f"
      },
      "source": [
        "# Oráculo de Grover en qiskit y Uf iterada\n",
        "Podemos acceder a *Statevector.from_label* para generar un oráculo acorde al estado cuántico que se busca.\n"
      ]
    },
    {
      "cell_type": "code",
      "execution_count": null,
      "metadata": {
        "id": "c7da47c9-a752-42a9-9f01-cf5b407a4a76",
        "outputId": "74fa11ad-8d2f-4373-fd0e-9c5ae0c918b3"
      },
      "outputs": [
        {
          "name": "stdout",
          "output_type": "stream",
          "text": [
            "3 -> 011\n"
          ]
        }
      ],
      "source": [
        "import random\n",
        "from qiskit.quantum_info import Statevector\n",
        "\n",
        "persona = random.randint(0,7)  # escogemos una persona al azar\n",
        "personabit = format(persona, '03b')  #lo convertimos a un numero binario de 3bits\n",
        "oracle = Statevector.from_label(personabit)  # le decimos al oráculo la persona que buscamos\n",
        "print(persona,\"->\",personabit)"
      ]
    },
    {
      "cell_type": "markdown",
      "metadata": {
        "id": "ef18a765-30d0-4c51-bb12-2e8513d4e009"
      },
      "source": [
        "Llamammos a la función AmplificationProblem, quien amplifica el estado correcto en nuestra iteración de grover."
      ]
    },
    {
      "cell_type": "code",
      "execution_count": null,
      "metadata": {
        "id": "2718b1bc-7e1f-47b6-bdb4-d74d00758aaf"
      },
      "outputs": [],
      "source": [
        "from qiskit.algorithms import AmplificationProblem\n",
        "\n",
        "pregunta = AmplificationProblem(oracle, is_good_state=personabit)"
      ]
    },
    {
      "cell_type": "markdown",
      "metadata": {
        "id": "7e25cdc2-d3e9-4bb6-be9e-8a7b916a00ae"
      },
      "source": [
        "Creamos el circuito con *Grover*"
      ]
    },
    {
      "cell_type": "code",
      "execution_count": null,
      "metadata": {
        "id": "8e2eb0af-0329-4004-b7e6-2f806421cd53"
      },
      "outputs": [],
      "source": [
        "from qiskit.algorithms import Grover\n",
        "\n",
        "uf_grover = []\n",
        "for iteracion in range(1,3): #va a ejecutar dos veces, una para iteracion=1 y otra para iteracion=2\n",
        "    grover = Grover(iterations = iteracion) #le indica el numero N de iteraciones para generar las N-Iteraciones de Grover\n",
        "    circuito = grover.construct_circuit(pregunta) #Se construe un circuito cuantico de grover a partir de la amplificación del oráculo\n",
        "    circuito.measure_all()\n",
        "    uf_grover.append(circuito) #añadimos el circuito a la lista de circuitos uf_grover"
      ]
    },
    {
      "cell_type": "markdown",
      "metadata": {
        "id": "47902fe5-ff6d-4c5e-b654-905315df89fd"
      },
      "source": [
        "Para una iteracion tenemos:"
      ]
    },
    {
      "cell_type": "code",
      "execution_count": null,
      "metadata": {
        "id": "925b05ef-9e4e-4f6b-bcb6-2181ec415115",
        "outputId": "caac9377-5d56-480f-b27b-4efb8da4988b"
      },
      "outputs": [
        {
          "data": {
            "image/png": "[encoded data removed]",
            "text/plain": [
              "<Figure size 478.079x264.88 with 1 Axes>"
            ]
          },
          "execution_count": 12,
          "metadata": {},
          "output_type": "execute_result"
        }
      ],
      "source": [
        "uf_grover[0].draw()"
      ]
    },
    {
      "cell_type": "code",
      "execution_count": null,
      "metadata": {
        "id": "b46ca76a-44a5-42c4-b6b9-068510ca5b9a",
        "outputId": "9e280079-3912-4a8d-8974-a8f3afe348f0"
      },
      "outputs": [
        {
          "data": {
            "image/png": "[encoded data removed]",
            "text/plain": [
              "<Figure size 504x360 with 1 Axes>"
            ]
          },
          "execution_count": 13,
          "metadata": {},
          "output_type": "execute_result"
        }
      ],
      "source": [
        "# Simulando el circuito\n",
        "\n",
        "result = execute(uf_grover[0], backend = simulator, shots = 2048).result()\n",
        "counts = result.get_counts()\n",
        "\n",
        "plot_histogram(counts)"
      ]
    },
    {
      "cell_type": "markdown",
      "metadata": {
        "id": "c1b03a9c-f076-49b6-8390-76f9c8914272"
      },
      "source": [
        "Para dos iteraciones:"
      ]
    },
    {
      "cell_type": "code",
      "execution_count": null,
      "metadata": {
        "id": "1ddc516e-1f51-4871-89fa-f8d9f5999851",
        "outputId": "24835db2-19a0-4f9e-db9f-c246d72a9307"
      },
      "outputs": [
        {
          "data": {
            "image/png": "[encoded data removed]",
            "text/plain": [
              "<Figure size 538.279x264.88 with 1 Axes>"
            ]
          },
          "execution_count": 14,
          "metadata": {},
          "output_type": "execute_result"
        }
      ],
      "source": [
        "uf_grover[1].draw()"
      ]
    },
    {
      "cell_type": "code",
      "execution_count": null,
      "metadata": {
        "id": "49929852-6c14-40e7-8ac4-53e8fcb26323",
        "outputId": "211211a7-615b-43ab-e552-a8e158885514"
      },
      "outputs": [
        {
          "data": {
            "image/png": "[encoded data removed]",
            "text/plain": [
              "<Figure size 504x360 with 1 Axes>"
            ]
          },
          "execution_count": 15,
          "metadata": {},
          "output_type": "execute_result"
        }
      ],
      "source": [
        "result = execute(uf_grover[1], backend = simulator, shots = 2048).result()\n",
        "counts = result.get_counts()\n",
        "\n",
        "plot_histogram(counts)"
      ]
    },
    {
      "cell_type": "markdown",
      "metadata": {
        "id": "790caf3b-3c03-4e5e-8216-cd408efa7e1f"
      },
      "source": [
        "Como puedes ver, la precisión del algoritmo de Grover para encontrar la respuesta correcta aumenta con el número de iteraciones."
      ]
    }
  ],
  "metadata": {
    "colab": {
      "provenance": []
    },
    "kernelspec": {
      "display_name": "Python 3",
      "name": "python3"
    },
    "language_info": {
      "name": "python"
    }
  },
  "nbformat": 4,
  "nbformat_minor": 0
}
